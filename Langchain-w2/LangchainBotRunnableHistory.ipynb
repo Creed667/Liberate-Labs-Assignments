{
  "cells": [
    {
      "cell_type": "markdown",
      "metadata": {
        "id": "zc-Xlw57VUSF"
      },
      "source": []
    },
    {
      "cell_type": "code",
      "execution_count": 1,
      "metadata": {},
      "outputs": [],
      "source": [
        "# !pip install langgraph"
      ]
    },
    {
      "cell_type": "code",
      "execution_count": 2,
      "metadata": {
        "id": "FAnc9wwn3pr0"
      },
      "outputs": [],
      "source": [
        "# !pip install langchain langchain-community langchain-openai langchain_experimental langchain_groq  -q"
      ]
    },
    {
      "cell_type": "code",
      "execution_count": 3,
      "metadata": {
        "id": "wPHcgcum3biQ"
      },
      "outputs": [],
      "source": [
        "from langchain.tools import Tool\n",
        "from langchain_experimental.tools import PythonREPLTool\n",
        "from langchain.document_loaders import TextLoader\n",
        "from langchain_groq import ChatGroq\n",
        "from langchain.agents import initialize_agent, load_tools\n",
        "from langchain.agents import AgentType\n",
        "#from langchain.memory import ConversationBufferMemory\n",
        "from langchain_core.messages import HumanMessage\n",
        "from langgraph.checkpoint.memory import MemorySaver\n",
        "from langgraph.prebuilt import create_react_agent\n",
        "import os\n",
        "import re\n"
      ]
    },
    {
      "cell_type": "code",
      "execution_count": 4,
      "metadata": {
        "id": "DIX4vLqG37GR"
      },
      "outputs": [],
      "source": [
        "def add(kwargs):\n",
        "    \"\"\"Adds two numbers.\"\"\"\n",
        "    try:\n",
        "        num1, num2 = int(kwargs[\"num1\"]), int(kwargs[\"num2\"])\n",
        "        return num1 + num2\n",
        "    except Exception as e:\n",
        "        return f\"Error: {str(e)}\"\n",
        "\n",
        "def multiply(kwargs):\n",
        "    \"\"\"Multiplies two numbers.\"\"\"\n",
        "    try:\n",
        "        num1, num2 = int(kwargs[\"num1\"]), int(kwargs[\"num2\"])\n",
        "        return num1 * num2\n",
        "    except Exception as e:\n",
        "        return f\"Error: {str(e)}\"\n",
        "\n",
        "def divide(kwargs):\n",
        "    \"\"\"Divides two numbers.\"\"\"\n",
        "    try:\n",
        "        num1, num2 = float(kwargs[\"num1\"]), float(kwargs[\"num2\"])\n",
        "        return num1 / num2 if num2 != 0 else \"Cannot divide by zero\"\n",
        "    except Exception as e:\n",
        "        return f\"Error: {str(e)}\"\n",
        "\n",
        "def subtract(kwargs):\n",
        "    try:\n",
        "        num1, num2 = int(kwargs[\"num1\"]), int(kwargs[\"num2\"])\n",
        "        return num1 - num2\n",
        "    except Exception as e:\n",
        "        return f\"Error: {str(e)}\"\n",
        "\n",
        "def power(kwargs):\n",
        "    \"\"\"Raises the first number to the power of the second number.\"\"\"\n",
        "    try:\n",
        "        num1, num2 = int(kwargs[\"num1\"]), int(kwargs[\"num2\"])\n",
        "        return num1 ** num2\n",
        "    except Exception as e:\n",
        "        return f\"Error: {str(e)}\"\n",
        "\n",
        "def summarize(kwargs):\n",
        "    \"\"\"Summarizes the given text.\"\"\"\n",
        "    return \" \".join(kwargs.split()[:10]) + \"...\"\n",
        "\n",
        "def word_count(kwargs):\n",
        "    \"\"\"Counts the number of words in the given text.\"\"\"\n",
        "    return len(kwargs.split(' '))\n"
      ]
    },
    {
      "cell_type": "code",
      "execution_count": 5,
      "metadata": {
        "id": "vqVvHghw4HqZ"
      },
      "outputs": [],
      "source": [
        "add_tool = Tool(name=\"Addition\", func=add, description=\"Adds two numbers.\")\n",
        "multiply_tool = Tool(name=\"Multiplication\", func=multiply, description=\"Multiplies two numbers.\")\n",
        "divide_tool = Tool(name=\"Division\", func=divide, description=\"Divides two numbers.\")\n",
        "subtract_tool = Tool(name=\"Subtraction\", func=subtract, description=\"Subtracts two numbers.\")\n",
        "power_tool = Tool(name=\"Power\", func=power, description=\"Raises the first number to the power of the second number.\")\n",
        "summarize_tool = Tool(name=\"Summarization\", func=summarize, description=\"Summarizes a given text.\")\n",
        "word_count_tool = Tool(name=\"WordCount\", func=word_count, description=\"Counts words in a given text.\")"
      ]
    },
    {
      "cell_type": "code",
      "execution_count": 6,
      "metadata": {
        "id": "dViVd6Pp4MHr"
      },
      "outputs": [],
      "source": [
        "tools = [add_tool, multiply_tool, divide_tool, subtract_tool,power_tool,summarize_tool,word_count_tool]\n",
        "\n",
        "llm = ChatGroq(model_name=\"gemma2-9b-it\", temperature=0,api_key = \"api\")"
      ]
    },
    {
      "cell_type": "code",
      "execution_count": 7,
      "metadata": {
        "id": "JlvqrJS5T4Ju"
      },
      "outputs": [],
      "source": [
        "memory = MemorySaver()"
      ]
    },
    {
      "cell_type": "code",
      "execution_count": 8,
      "metadata": {
        "id": "eB-XFxyH4ab4"
      },
      "outputs": [],
      "source": [
        "agent = create_react_agent(llm, tools, checkpointer=memory)"
      ]
    },
    {
      "cell_type": "code",
      "execution_count": 9,
      "metadata": {
        "colab": {
          "base_uri": "https://localhost:8080/"
        },
        "id": "nBO1_SW44dyZ",
        "outputId": "30e565d5-bd70-4c9f-8774-55ffabe5b02b"
      },
      "outputs": [
        {
          "name": "stdout",
          "output_type": "stream",
          "text": [
            "{'agent': {'messages': [AIMessage(content='', additional_kwargs={'tool_calls': [{'id': 'call_gryg', 'function': {'arguments': '{\"__arg1\":\"hi im bob! and i live in sf\"}', 'name': 'Summarization'}, 'type': 'function'}]}, response_metadata={'token_usage': {'completion_tokens': 90, 'prompt_tokens': 1628, 'total_tokens': 1718, 'completion_time': 0.163636364, 'prompt_time': 0.078925933, 'queue_time': 0.022207434999999998, 'total_time': 0.242562297}, 'model_name': 'gemma2-9b-it', 'system_fingerprint': 'fp_10c08bf97d', 'finish_reason': 'tool_calls', 'logprobs': None}, id='run-e8933176-5dcf-4cbb-989b-80104391535e-0', tool_calls=[{'name': 'Summarization', 'args': {'__arg1': 'hi im bob! and i live in sf'}, 'id': 'call_gryg', 'type': 'tool_call'}], usage_metadata={'input_tokens': 1628, 'output_tokens': 90, 'total_tokens': 1718})]}}\n",
            "----\n",
            "{'tools': {'messages': [ToolMessage(content='hi im bob! and i live in sf...', name='Summarization', id='046df9e4-b75f-4db2-a3bf-ce99f2ae4530', tool_call_id='call_gryg')]}}\n",
            "----\n",
            "{'agent': {'messages': [AIMessage(content=\"Hello Bob! It's nice to meet you.  \\n\", additional_kwargs={}, response_metadata={'token_usage': {'completion_tokens': 15, 'prompt_tokens': 1715, 'total_tokens': 1730, 'completion_time': 0.027272727, 'prompt_time': 0.072705759, 'queue_time': 0.025953553000000004, 'total_time': 0.099978486}, 'model_name': 'gemma2-9b-it', 'system_fingerprint': 'fp_10c08bf97d', 'finish_reason': 'stop', 'logprobs': None}, id='run-53f06d00-7176-4cf9-a97f-568f5e7ee608-0', usage_metadata={'input_tokens': 1715, 'output_tokens': 15, 'total_tokens': 1730})]}}\n",
            "----\n"
          ]
        }
      ],
      "source": [
        "config = {\"configurable\": {\"thread_id\": \"abc123\"}}\n",
        "for chunk in agent.stream(\n",
        "    {\"messages\": [HumanMessage(content=\"hi im bob! and i live in sf\")]}, config\n",
        "):\n",
        "    print(chunk)\n",
        "    print(\"----\")\n",
        "\n"
      ]
    },
    {
      "cell_type": "code",
      "execution_count": null,
      "metadata": {
        "id": "xgoAVOtXWDLR"
      },
      "outputs": [],
      "source": [
        "# response = agent.run(\"Do you know what my name is?\")\n",
        "# print(response)"
      ]
    },
    {
      "cell_type": "code",
      "execution_count": 10,
      "metadata": {
        "colab": {
          "base_uri": "https://localhost:8080/"
        },
        "id": "vIm16mK3ahCF",
        "outputId": "a90e1177-dc35-465d-d1c0-fd2f486d4e30"
      },
      "outputs": [
        {
          "name": "stdout",
          "output_type": "stream",
          "text": [
            "{'agent': {'messages': [AIMessage(content='Yes, your name is Bob.', additional_kwargs={}, response_metadata={'token_usage': {'completion_tokens': 9, 'prompt_tokens': 1744, 'total_tokens': 1753, 'completion_time': 0.016363636, 'prompt_time': 0.093372615, 'queue_time': 0.024080724999999997, 'total_time': 0.109736251}, 'model_name': 'gemma2-9b-it', 'system_fingerprint': 'fp_10c08bf97d', 'finish_reason': 'stop', 'logprobs': None}, id='run-af0df18e-585e-4cf6-9f39-80a63b295359-0', usage_metadata={'input_tokens': 1744, 'output_tokens': 9, 'total_tokens': 1753})]}}\n",
            "----\n"
          ]
        }
      ],
      "source": [
        "for chunk in agent.stream(\n",
        "    {\"messages\": [HumanMessage(content=\"Do you know my name?\")]}, config\n",
        "):\n",
        "    print(chunk)\n",
        "    print(\"----\")"
      ]
    },
    {
      "cell_type": "code",
      "execution_count": 11,
      "metadata": {
        "colab": {
          "base_uri": "https://localhost:8080/"
        },
        "id": "bXl3VeQXamaD",
        "outputId": "bfecb9de-4d08-4590-a1aa-7b9f67c50334"
      },
      "outputs": [
        {
          "name": "stdout",
          "output_type": "stream",
          "text": [
            "{'agent': {'messages': [AIMessage(content='Your name is Bob.', additional_kwargs={}, response_metadata={'token_usage': {'completion_tokens': 7, 'prompt_tokens': 1765, 'total_tokens': 1772, 'completion_time': 0.012727273, 'prompt_time': 0.113476172, 'queue_time': 0.02614569600000001, 'total_time': 0.126203445}, 'model_name': 'gemma2-9b-it', 'system_fingerprint': 'fp_10c08bf97d', 'finish_reason': 'stop', 'logprobs': None}, id='run-e97ae77c-548d-4c00-8b22-d3664d2668d6-0', usage_metadata={'input_tokens': 1765, 'output_tokens': 7, 'total_tokens': 1772})]}}\n",
            "----\n"
          ]
        }
      ],
      "source": [
        "for chunk in agent.stream(\n",
        "    {\"messages\": [HumanMessage(content=\"Tell me my name\")]}, config\n",
        "):\n",
        "    print(chunk)\n",
        "    print(\"----\")"
      ]
    },
    {
      "cell_type": "code",
      "execution_count": 12,
      "metadata": {
        "colab": {
          "base_uri": "https://localhost:8080/"
        },
        "id": "uZ2aiYJJarPS",
        "outputId": "3ae4f1e6-9c9b-4925-e131-1c8678a816e8"
      },
      "outputs": [
        {
          "name": "stdout",
          "output_type": "stream",
          "text": [
            "{'agent': {'messages': [AIMessage(content='', additional_kwargs={'tool_calls': [{'id': 'call_x4aj', 'function': {'arguments': '{\"__arg1\":\"i love bangladesh so much\"}', 'name': 'WordCount'}, 'type': 'function'}]}, response_metadata={'token_usage': {'completion_tokens': 51, 'prompt_tokens': 1789, 'total_tokens': 1840, 'completion_time': 0.092727273, 'prompt_time': 0.123665566, 'queue_time': 0.025625551999999996, 'total_time': 0.216392839}, 'model_name': 'gemma2-9b-it', 'system_fingerprint': 'fp_10c08bf97d', 'finish_reason': 'tool_calls', 'logprobs': None}, id='run-3badeaa8-79b6-4105-aaec-da6636ff2c66-0', tool_calls=[{'name': 'WordCount', 'args': {'__arg1': 'i love bangladesh so much'}, 'id': 'call_x4aj', 'type': 'tool_call'}], usage_metadata={'input_tokens': 1789, 'output_tokens': 51, 'total_tokens': 1840})]}}\n",
            "----\n",
            "{'tools': {'messages': [ToolMessage(content='5', name='WordCount', id='bc00821b-1798-482c-9650-e10e05e7ecde', tool_call_id='call_x4aj')]}}\n",
            "----\n",
            "{'agent': {'messages': [AIMessage(content='There are 5 words in that sentence. \\n', additional_kwargs={}, response_metadata={'token_usage': {'completion_tokens': 13, 'prompt_tokens': 1867, 'total_tokens': 1880, 'completion_time': 0.023636364, 'prompt_time': 0.095571269, 'queue_time': 0.027156190999999996, 'total_time': 0.119207633}, 'model_name': 'gemma2-9b-it', 'system_fingerprint': 'fp_10c08bf97d', 'finish_reason': 'stop', 'logprobs': None}, id='run-ad6b4f1d-c43d-4383-a33d-7229000d02cb-0', usage_metadata={'input_tokens': 1867, 'output_tokens': 13, 'total_tokens': 1880})]}}\n",
            "----\n"
          ]
        }
      ],
      "source": [
        "for chunk in agent.stream(\n",
        "    {\"messages\": [HumanMessage(content=\"Count word from i love bangladesh so much\")]}, config\n",
        "):\n",
        "    print(chunk)\n",
        "    print(\"----\")"
      ]
    },
    {
      "cell_type": "code",
      "execution_count": null,
      "metadata": {
        "id": "3o81GGWughou"
      },
      "outputs": [],
      "source": []
    }
  ],
  "metadata": {
    "colab": {
      "provenance": []
    },
    "kernelspec": {
      "display_name": "base",
      "language": "python",
      "name": "python3"
    },
    "language_info": {
      "codemirror_mode": {
        "name": "ipython",
        "version": 3
      },
      "file_extension": ".py",
      "mimetype": "text/x-python",
      "name": "python",
      "nbconvert_exporter": "python",
      "pygments_lexer": "ipython3",
      "version": "3.12.8"
    }
  },
  "nbformat": 4,
  "nbformat_minor": 0
}
