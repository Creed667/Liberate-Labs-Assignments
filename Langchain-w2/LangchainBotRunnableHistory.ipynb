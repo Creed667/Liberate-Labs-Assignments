{
  "cells": [
    {
      "cell_type": "markdown",
      "metadata": {
        "id": "zc-Xlw57VUSF"
      },
      "source": []
    },
    {
      "cell_type": "code",
      "execution_count": 10,
      "metadata": {},
      "outputs": [
        {
          "name": "stdout",
          "output_type": "stream",
          "text": [
            "Collecting langgraph\n",
            "  Downloading langgraph-0.2.69-py3-none-any.whl.metadata (17 kB)\n",
            "Requirement already satisfied: langchain-core!=0.3.0,!=0.3.1,!=0.3.10,!=0.3.11,!=0.3.12,!=0.3.13,!=0.3.14,!=0.3.15,!=0.3.16,!=0.3.17,!=0.3.18,!=0.3.19,!=0.3.2,!=0.3.20,!=0.3.21,!=0.3.22,!=0.3.3,!=0.3.4,!=0.3.5,!=0.3.6,!=0.3.7,!=0.3.8,!=0.3.9,<0.4.0,>=0.2.43 in c:\\users\\venom\\miniforge3\\lib\\site-packages (from langgraph) (0.3.33)\n",
            "Collecting langgraph-checkpoint<3.0.0,>=2.0.10 (from langgraph)\n",
            "  Downloading langgraph_checkpoint-2.0.10-py3-none-any.whl.metadata (4.6 kB)\n",
            "Collecting langgraph-sdk<0.2.0,>=0.1.42 (from langgraph)\n",
            "  Downloading langgraph_sdk-0.1.51-py3-none-any.whl.metadata (1.8 kB)\n",
            "Requirement already satisfied: PyYAML>=5.3 in c:\\users\\venom\\miniforge3\\lib\\site-packages (from langchain-core!=0.3.0,!=0.3.1,!=0.3.10,!=0.3.11,!=0.3.12,!=0.3.13,!=0.3.14,!=0.3.15,!=0.3.16,!=0.3.17,!=0.3.18,!=0.3.19,!=0.3.2,!=0.3.20,!=0.3.21,!=0.3.22,!=0.3.3,!=0.3.4,!=0.3.5,!=0.3.6,!=0.3.7,!=0.3.8,!=0.3.9,<0.4.0,>=0.2.43->langgraph) (6.0.2)\n",
            "Requirement already satisfied: jsonpatch<2.0,>=1.33 in c:\\users\\venom\\miniforge3\\lib\\site-packages (from langchain-core!=0.3.0,!=0.3.1,!=0.3.10,!=0.3.11,!=0.3.12,!=0.3.13,!=0.3.14,!=0.3.15,!=0.3.16,!=0.3.17,!=0.3.18,!=0.3.19,!=0.3.2,!=0.3.20,!=0.3.21,!=0.3.22,!=0.3.3,!=0.3.4,!=0.3.5,!=0.3.6,!=0.3.7,!=0.3.8,!=0.3.9,<0.4.0,>=0.2.43->langgraph) (1.33)\n",
            "Requirement already satisfied: langsmith<0.4,>=0.1.125 in c:\\users\\venom\\miniforge3\\lib\\site-packages (from langchain-core!=0.3.0,!=0.3.1,!=0.3.10,!=0.3.11,!=0.3.12,!=0.3.13,!=0.3.14,!=0.3.15,!=0.3.16,!=0.3.17,!=0.3.18,!=0.3.19,!=0.3.2,!=0.3.20,!=0.3.21,!=0.3.22,!=0.3.3,!=0.3.4,!=0.3.5,!=0.3.6,!=0.3.7,!=0.3.8,!=0.3.9,<0.4.0,>=0.2.43->langgraph) (0.3.4)\n",
            "Requirement already satisfied: packaging<25,>=23.2 in c:\\users\\venom\\miniforge3\\lib\\site-packages (from langchain-core!=0.3.0,!=0.3.1,!=0.3.10,!=0.3.11,!=0.3.12,!=0.3.13,!=0.3.14,!=0.3.15,!=0.3.16,!=0.3.17,!=0.3.18,!=0.3.19,!=0.3.2,!=0.3.20,!=0.3.21,!=0.3.22,!=0.3.3,!=0.3.4,!=0.3.5,!=0.3.6,!=0.3.7,!=0.3.8,!=0.3.9,<0.4.0,>=0.2.43->langgraph) (24.2)\n",
            "Requirement already satisfied: pydantic<3.0.0,>=2.7.4 in c:\\users\\venom\\miniforge3\\lib\\site-packages (from langchain-core!=0.3.0,!=0.3.1,!=0.3.10,!=0.3.11,!=0.3.12,!=0.3.13,!=0.3.14,!=0.3.15,!=0.3.16,!=0.3.17,!=0.3.18,!=0.3.19,!=0.3.2,!=0.3.20,!=0.3.21,!=0.3.22,!=0.3.3,!=0.3.4,!=0.3.5,!=0.3.6,!=0.3.7,!=0.3.8,!=0.3.9,<0.4.0,>=0.2.43->langgraph) (2.10.6)\n",
            "Requirement already satisfied: tenacity!=8.4.0,<10.0.0,>=8.1.0 in c:\\users\\venom\\miniforge3\\lib\\site-packages (from langchain-core!=0.3.0,!=0.3.1,!=0.3.10,!=0.3.11,!=0.3.12,!=0.3.13,!=0.3.14,!=0.3.15,!=0.3.16,!=0.3.17,!=0.3.18,!=0.3.19,!=0.3.2,!=0.3.20,!=0.3.21,!=0.3.22,!=0.3.3,!=0.3.4,!=0.3.5,!=0.3.6,!=0.3.7,!=0.3.8,!=0.3.9,<0.4.0,>=0.2.43->langgraph) (9.0.0)\n",
            "Requirement already satisfied: typing-extensions>=4.7 in c:\\users\\venom\\miniforge3\\lib\\site-packages (from langchain-core!=0.3.0,!=0.3.1,!=0.3.10,!=0.3.11,!=0.3.12,!=0.3.13,!=0.3.14,!=0.3.15,!=0.3.16,!=0.3.17,!=0.3.18,!=0.3.19,!=0.3.2,!=0.3.20,!=0.3.21,!=0.3.22,!=0.3.3,!=0.3.4,!=0.3.5,!=0.3.6,!=0.3.7,!=0.3.8,!=0.3.9,<0.4.0,>=0.2.43->langgraph) (4.12.2)\n",
            "Collecting msgpack<2.0.0,>=1.1.0 (from langgraph-checkpoint<3.0.0,>=2.0.10->langgraph)\n",
            "  Downloading msgpack-1.1.0-cp312-cp312-win_amd64.whl.metadata (8.6 kB)\n",
            "Requirement already satisfied: httpx>=0.25.2 in c:\\users\\venom\\miniforge3\\lib\\site-packages (from langgraph-sdk<0.2.0,>=0.1.42->langgraph) (0.28.1)\n",
            "Requirement already satisfied: orjson>=3.10.1 in c:\\users\\venom\\miniforge3\\lib\\site-packages (from langgraph-sdk<0.2.0,>=0.1.42->langgraph) (3.10.15)\n",
            "Requirement already satisfied: anyio in c:\\users\\venom\\miniforge3\\lib\\site-packages (from httpx>=0.25.2->langgraph-sdk<0.2.0,>=0.1.42->langgraph) (4.8.0)\n",
            "Requirement already satisfied: certifi in c:\\users\\venom\\miniforge3\\lib\\site-packages (from httpx>=0.25.2->langgraph-sdk<0.2.0,>=0.1.42->langgraph) (2024.12.14)\n",
            "Requirement already satisfied: httpcore==1.* in c:\\users\\venom\\miniforge3\\lib\\site-packages (from httpx>=0.25.2->langgraph-sdk<0.2.0,>=0.1.42->langgraph) (1.0.7)\n",
            "Requirement already satisfied: idna in c:\\users\\venom\\miniforge3\\lib\\site-packages (from httpx>=0.25.2->langgraph-sdk<0.2.0,>=0.1.42->langgraph) (3.10)\n",
            "Requirement already satisfied: h11<0.15,>=0.13 in c:\\users\\venom\\miniforge3\\lib\\site-packages (from httpcore==1.*->httpx>=0.25.2->langgraph-sdk<0.2.0,>=0.1.42->langgraph) (0.14.0)\n",
            "Requirement already satisfied: jsonpointer>=1.9 in c:\\users\\venom\\miniforge3\\lib\\site-packages (from jsonpatch<2.0,>=1.33->langchain-core!=0.3.0,!=0.3.1,!=0.3.10,!=0.3.11,!=0.3.12,!=0.3.13,!=0.3.14,!=0.3.15,!=0.3.16,!=0.3.17,!=0.3.18,!=0.3.19,!=0.3.2,!=0.3.20,!=0.3.21,!=0.3.22,!=0.3.3,!=0.3.4,!=0.3.5,!=0.3.6,!=0.3.7,!=0.3.8,!=0.3.9,<0.4.0,>=0.2.43->langgraph) (3.0.0)\n",
            "Requirement already satisfied: requests<3,>=2 in c:\\users\\venom\\miniforge3\\lib\\site-packages (from langsmith<0.4,>=0.1.125->langchain-core!=0.3.0,!=0.3.1,!=0.3.10,!=0.3.11,!=0.3.12,!=0.3.13,!=0.3.14,!=0.3.15,!=0.3.16,!=0.3.17,!=0.3.18,!=0.3.19,!=0.3.2,!=0.3.20,!=0.3.21,!=0.3.22,!=0.3.3,!=0.3.4,!=0.3.5,!=0.3.6,!=0.3.7,!=0.3.8,!=0.3.9,<0.4.0,>=0.2.43->langgraph) (2.32.3)\n",
            "Requirement already satisfied: requests-toolbelt<2.0.0,>=1.0.0 in c:\\users\\venom\\miniforge3\\lib\\site-packages (from langsmith<0.4,>=0.1.125->langchain-core!=0.3.0,!=0.3.1,!=0.3.10,!=0.3.11,!=0.3.12,!=0.3.13,!=0.3.14,!=0.3.15,!=0.3.16,!=0.3.17,!=0.3.18,!=0.3.19,!=0.3.2,!=0.3.20,!=0.3.21,!=0.3.22,!=0.3.3,!=0.3.4,!=0.3.5,!=0.3.6,!=0.3.7,!=0.3.8,!=0.3.9,<0.4.0,>=0.2.43->langgraph) (1.0.0)\n",
            "Requirement already satisfied: zstandard<0.24.0,>=0.23.0 in c:\\users\\venom\\miniforge3\\lib\\site-packages (from langsmith<0.4,>=0.1.125->langchain-core!=0.3.0,!=0.3.1,!=0.3.10,!=0.3.11,!=0.3.12,!=0.3.13,!=0.3.14,!=0.3.15,!=0.3.16,!=0.3.17,!=0.3.18,!=0.3.19,!=0.3.2,!=0.3.20,!=0.3.21,!=0.3.22,!=0.3.3,!=0.3.4,!=0.3.5,!=0.3.6,!=0.3.7,!=0.3.8,!=0.3.9,<0.4.0,>=0.2.43->langgraph) (0.23.0)\n",
            "Requirement already satisfied: annotated-types>=0.6.0 in c:\\users\\venom\\miniforge3\\lib\\site-packages (from pydantic<3.0.0,>=2.7.4->langchain-core!=0.3.0,!=0.3.1,!=0.3.10,!=0.3.11,!=0.3.12,!=0.3.13,!=0.3.14,!=0.3.15,!=0.3.16,!=0.3.17,!=0.3.18,!=0.3.19,!=0.3.2,!=0.3.20,!=0.3.21,!=0.3.22,!=0.3.3,!=0.3.4,!=0.3.5,!=0.3.6,!=0.3.7,!=0.3.8,!=0.3.9,<0.4.0,>=0.2.43->langgraph) (0.7.0)\n",
            "Requirement already satisfied: pydantic-core==2.27.2 in c:\\users\\venom\\miniforge3\\lib\\site-packages (from pydantic<3.0.0,>=2.7.4->langchain-core!=0.3.0,!=0.3.1,!=0.3.10,!=0.3.11,!=0.3.12,!=0.3.13,!=0.3.14,!=0.3.15,!=0.3.16,!=0.3.17,!=0.3.18,!=0.3.19,!=0.3.2,!=0.3.20,!=0.3.21,!=0.3.22,!=0.3.3,!=0.3.4,!=0.3.5,!=0.3.6,!=0.3.7,!=0.3.8,!=0.3.9,<0.4.0,>=0.2.43->langgraph) (2.27.2)\n",
            "Requirement already satisfied: charset_normalizer<4,>=2 in c:\\users\\venom\\miniforge3\\lib\\site-packages (from requests<3,>=2->langsmith<0.4,>=0.1.125->langchain-core!=0.3.0,!=0.3.1,!=0.3.10,!=0.3.11,!=0.3.12,!=0.3.13,!=0.3.14,!=0.3.15,!=0.3.16,!=0.3.17,!=0.3.18,!=0.3.19,!=0.3.2,!=0.3.20,!=0.3.21,!=0.3.22,!=0.3.3,!=0.3.4,!=0.3.5,!=0.3.6,!=0.3.7,!=0.3.8,!=0.3.9,<0.4.0,>=0.2.43->langgraph) (3.4.1)\n",
            "Requirement already satisfied: urllib3<3,>=1.21.1 in c:\\users\\venom\\miniforge3\\lib\\site-packages (from requests<3,>=2->langsmith<0.4,>=0.1.125->langchain-core!=0.3.0,!=0.3.1,!=0.3.10,!=0.3.11,!=0.3.12,!=0.3.13,!=0.3.14,!=0.3.15,!=0.3.16,!=0.3.17,!=0.3.18,!=0.3.19,!=0.3.2,!=0.3.20,!=0.3.21,!=0.3.22,!=0.3.3,!=0.3.4,!=0.3.5,!=0.3.6,!=0.3.7,!=0.3.8,!=0.3.9,<0.4.0,>=0.2.43->langgraph) (2.3.0)\n",
            "Requirement already satisfied: sniffio>=1.1 in c:\\users\\venom\\miniforge3\\lib\\site-packages (from anyio->httpx>=0.25.2->langgraph-sdk<0.2.0,>=0.1.42->langgraph) (1.3.1)\n",
            "Downloading langgraph-0.2.69-py3-none-any.whl (148 kB)\n",
            "Downloading langgraph_checkpoint-2.0.10-py3-none-any.whl (37 kB)\n",
            "Downloading langgraph_sdk-0.1.51-py3-none-any.whl (44 kB)\n",
            "Downloading msgpack-1.1.0-cp312-cp312-win_amd64.whl (75 kB)\n",
            "Installing collected packages: msgpack, langgraph-sdk, langgraph-checkpoint, langgraph\n",
            "Successfully installed langgraph-0.2.69 langgraph-checkpoint-2.0.10 langgraph-sdk-0.1.51 msgpack-1.1.0\n"
          ]
        }
      ],
      "source": [
        "!pip install langgraph"
      ]
    },
    {
      "cell_type": "code",
      "execution_count": 2,
      "metadata": {
        "id": "FAnc9wwn3pr0"
      },
      "outputs": [],
      "source": [
        "!pip install langchain langchain-community langchain-openai langchain_experimental langchain_groq  -q"
      ]
    },
    {
      "cell_type": "code",
      "execution_count": 11,
      "metadata": {
        "id": "wPHcgcum3biQ"
      },
      "outputs": [],
      "source": [
        "from langchain.tools import Tool\n",
        "from langchain_experimental.tools import PythonREPLTool\n",
        "from langchain.document_loaders import TextLoader\n",
        "from langchain_groq import ChatGroq\n",
        "from langchain.agents import initialize_agent, load_tools\n",
        "from langchain.agents import AgentType\n",
        "#from langchain.memory import ConversationBufferMemory\n",
        "from langchain_core.messages import HumanMessage\n",
        "from langgraph.checkpoint.memory import MemorySaver\n",
        "from langgraph.prebuilt import create_react_agent\n",
        "import os\n",
        "import re\n"
      ]
    },
    {
      "cell_type": "code",
      "execution_count": null,
      "metadata": {
        "id": "DIX4vLqG37GR"
      },
      "outputs": [],
      "source": [
        "def add(kwargs):\n",
        "    \"\"\"Adds two numbers.\"\"\"\n",
        "    try:\n",
        "        num1, num2 = int(kwargs[\"num1\"]), int(kwargs[\"num2\"])\n",
        "        return num1 + num2\n",
        "    except Exception as e:\n",
        "        return f\"Error: {str(e)}\"\n",
        "\n",
        "def multiply(kwargs):\n",
        "    \"\"\"Multiplies two numbers.\"\"\"\n",
        "    try:\n",
        "        num1, num2 = int(kwargs[\"num1\"]), int(kwargs[\"num2\"])\n",
        "        return num1 * num2\n",
        "    except Exception as e:\n",
        "        return f\"Error: {str(e)}\"\n",
        "\n",
        "def divide(kwargs):\n",
        "    \"\"\"Divides two numbers.\"\"\"\n",
        "    try:\n",
        "        num1, num2 = float(kwargs[\"num1\"]), float(kwargs[\"num2\"])\n",
        "        return num1 / num2 if num2 != 0 else \"Cannot divide by zero\"\n",
        "    except Exception as e:\n",
        "        return f\"Error: {str(e)}\"\n",
        "\n",
        "def subtract(kwargs):\n",
        "    try:\n",
        "        num1, num2 = int(kwargs[\"num1\"]), int(kwargs[\"num2\"])\n",
        "        return num1 - num2\n",
        "    except Exception as e:\n",
        "        return f\"Error: {str(e)}\"\n",
        "\n",
        "def power(kwargs):\n",
        "    \"\"\"Raises the first number to the power of the second number.\"\"\"\n",
        "    try:\n",
        "        num1, num2 = int(kwargs[\"num1\"]), int(kwargs[\"num2\"])\n",
        "        return num1 ** num2\n",
        "    except Exception as e:\n",
        "        return f\"Error: {str(e)}\"\n",
        "\n",
        "def summarize(kwargs):\n",
        "    \"\"\"Summarizes the given text.\"\"\"\n",
        "    return \" \".join(kwargs.split()[:10]) + \"...\"\n",
        "\n",
        "def word_count(kwargs):\n",
        "    \"\"\"Counts the number of words in the given text.\"\"\"\n",
        "    return len(kwargs.split(' '))\n"
      ]
    },
    {
      "cell_type": "code",
      "execution_count": null,
      "metadata": {
        "id": "vqVvHghw4HqZ"
      },
      "outputs": [],
      "source": [
        "add_tool = Tool(name=\"Addition\", func=add, description=\"Adds two numbers.\")\n",
        "multiply_tool = Tool(name=\"Multiplication\", func=multiply, description=\"Multiplies two numbers.\")\n",
        "divide_tool = Tool(name=\"Division\", func=divide, description=\"Divides two numbers.\")\n",
        "subtract_tool = Tool(name=\"Subtraction\", func=subtract, description=\"Subtracts two numbers.\")\n",
        "power_tool = Tool(name=\"Power\", func=power, description=\"Raises the first number to the power of the second number.\")\n",
        "summarize_tool = Tool(name=\"Summarization\", func=summarize, description=\"Summarizes a given text.\")\n",
        "word_count_tool = Tool(name=\"WordCount\", func=word_count, description=\"Counts words in a given text.\")"
      ]
    },
    {
      "cell_type": "code",
      "execution_count": null,
      "metadata": {
        "id": "dViVd6Pp4MHr"
      },
      "outputs": [],
      "source": [
        "tools = [add_tool, multiply_tool, divide_tool, subtract_tool,power_tool,summarize_tool,word_count_tool]\n",
        "\n",
        "llm = ChatGroq(model_name=\"gemma2-9b-it\", temperature=0,api_key = \"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\")"
      ]
    },
    {
      "cell_type": "code",
      "execution_count": 12,
      "metadata": {
        "id": "JlvqrJS5T4Ju"
      },
      "outputs": [],
      "source": [
        "memory = MemorySaver()"
      ]
    },
    {
      "cell_type": "code",
      "execution_count": 13,
      "metadata": {
        "id": "eB-XFxyH4ab4"
      },
      "outputs": [],
      "source": [
        "agent = create_react_agent(llm, tools, checkpointer=memory)"
      ]
    },
    {
      "cell_type": "code",
      "execution_count": 14,
      "metadata": {
        "colab": {
          "base_uri": "https://localhost:8080/"
        },
        "id": "nBO1_SW44dyZ",
        "outputId": "30e565d5-bd70-4c9f-8774-55ffabe5b02b"
      },
      "outputs": [
        {
          "name": "stdout",
          "output_type": "stream",
          "text": [
            "{'agent': {'messages': [AIMessage(content='', additional_kwargs={'tool_calls': [{'id': 'call_p7y0', 'function': {'arguments': '{\"__arg1\":\"hi im bob! and i live in sf\"}', 'name': 'Summarization'}, 'type': 'function'}]}, response_metadata={'token_usage': {'completion_tokens': 90, 'prompt_tokens': 1628, 'total_tokens': 1718, 'completion_time': 0.163636364, 'prompt_time': 0.052439326, 'queue_time': 0.021984560999999993, 'total_time': 0.21607569}, 'model_name': 'gemma2-9b-it', 'system_fingerprint': 'fp_10c08bf97d', 'finish_reason': 'tool_calls', 'logprobs': None}, id='run-c59a29ea-cc82-446f-a052-0f6724cf8c69-0', tool_calls=[{'name': 'Summarization', 'args': {'__arg1': 'hi im bob! and i live in sf'}, 'id': 'call_p7y0', 'type': 'tool_call'}], usage_metadata={'input_tokens': 1628, 'output_tokens': 90, 'total_tokens': 1718})]}}\n",
            "----\n",
            "{'tools': {'messages': [ToolMessage(content='hi im bob! and i live in sf...', name='Summarization', id='e449b82b-82b4-4aa0-bc6c-f880ec7d992a', tool_call_id='call_p7y0')]}}\n",
            "----\n",
            "{'agent': {'messages': [AIMessage(content=\"Hello Bob! It's nice to meet you.  Where in San Francisco do you live? \\n\", additional_kwargs={}, response_metadata={'token_usage': {'completion_tokens': 24, 'prompt_tokens': 1719, 'total_tokens': 1743, 'completion_time': 0.043636364, 'prompt_time': 0.071455648, 'queue_time': 0.025082953000000005, 'total_time': 0.115092012}, 'model_name': 'gemma2-9b-it', 'system_fingerprint': 'fp_10c08bf97d', 'finish_reason': 'stop', 'logprobs': None}, id='run-ff121182-ff58-4ce3-8c6b-b81a72549830-0', usage_metadata={'input_tokens': 1719, 'output_tokens': 24, 'total_tokens': 1743})]}}\n",
            "----\n"
          ]
        }
      ],
      "source": [
        "config = {\"configurable\": {\"thread_id\": \"abc123\"}}\n",
        "for chunk in agent.stream(\n",
        "    {\"messages\": [HumanMessage(content=\"hi im bob! and i live in sf\")]}, config\n",
        "):\n",
        "    print(chunk)\n",
        "    print(\"----\")\n",
        "\n"
      ]
    },
    {
      "cell_type": "code",
      "execution_count": null,
      "metadata": {
        "id": "xgoAVOtXWDLR"
      },
      "outputs": [],
      "source": [
        "# response = agent.run(\"Do you know what my name is?\")\n",
        "# print(response)"
      ]
    },
    {
      "cell_type": "code",
      "execution_count": 15,
      "metadata": {
        "colab": {
          "base_uri": "https://localhost:8080/"
        },
        "id": "vIm16mK3ahCF",
        "outputId": "a90e1177-dc35-465d-d1c0-fd2f486d4e30"
      },
      "outputs": [
        {
          "name": "stdout",
          "output_type": "stream",
          "text": [
            "{'agent': {'messages': [AIMessage(content='Yes, you told me your name is Bob.  ', additional_kwargs={}, response_metadata={'token_usage': {'completion_tokens': 13, 'prompt_tokens': 1757, 'total_tokens': 1770, 'completion_time': 0.023636364, 'prompt_time': 0.056908694, 'queue_time': 0.024892145999999997, 'total_time': 0.080545058}, 'model_name': 'gemma2-9b-it', 'system_fingerprint': 'fp_10c08bf97d', 'finish_reason': 'stop', 'logprobs': None}, id='run-429a1524-e147-46af-ad7d-c83adc2fffa6-0', usage_metadata={'input_tokens': 1757, 'output_tokens': 13, 'total_tokens': 1770})]}}\n",
            "----\n"
          ]
        }
      ],
      "source": [
        "for chunk in agent.stream(\n",
        "    {\"messages\": [HumanMessage(content=\"Do you know my name?\")]}, config\n",
        "):\n",
        "    print(chunk)\n",
        "    print(\"----\")"
      ]
    },
    {
      "cell_type": "code",
      "execution_count": 16,
      "metadata": {
        "colab": {
          "base_uri": "https://localhost:8080/"
        },
        "id": "bXl3VeQXamaD",
        "outputId": "bfecb9de-4d08-4590-a1aa-7b9f67c50334"
      },
      "outputs": [
        {
          "name": "stdout",
          "output_type": "stream",
          "text": [
            "{'agent': {'messages': [AIMessage(content='Your name is Bob. \\n', additional_kwargs={}, response_metadata={'token_usage': {'completion_tokens': 9, 'prompt_tokens': 1782, 'total_tokens': 1791, 'completion_time': 0.016363636, 'prompt_time': 0.081526482, 'queue_time': 0.10872424700000001, 'total_time': 0.097890118}, 'model_name': 'gemma2-9b-it', 'system_fingerprint': 'fp_10c08bf97d', 'finish_reason': 'stop', 'logprobs': None}, id='run-d348a206-414e-42f0-994d-d4dfcbda456d-0', usage_metadata={'input_tokens': 1782, 'output_tokens': 9, 'total_tokens': 1791})]}}\n",
            "----\n"
          ]
        }
      ],
      "source": [
        "for chunk in agent.stream(\n",
        "    {\"messages\": [HumanMessage(content=\"Tell me my name\")]}, config\n",
        "):\n",
        "    print(chunk)\n",
        "    print(\"----\")"
      ]
    },
    {
      "cell_type": "code",
      "execution_count": 17,
      "metadata": {
        "colab": {
          "base_uri": "https://localhost:8080/"
        },
        "id": "uZ2aiYJJarPS",
        "outputId": "3ae4f1e6-9c9b-4925-e131-1c8678a816e8"
      },
      "outputs": [
        {
          "name": "stdout",
          "output_type": "stream",
          "text": [
            "{'agent': {'messages': [AIMessage(content='', additional_kwargs={'tool_calls': [{'id': 'call_nhm9', 'function': {'arguments': '{\"__arg1\":\"i love bangladesh so much\"}', 'name': 'WordCount'}, 'type': 'function'}]}, response_metadata={'token_usage': {'completion_tokens': 53, 'prompt_tokens': 1808, 'total_tokens': 1861, 'completion_time': 0.096363636, 'prompt_time': 0.058417711, 'queue_time': 0.023738401000000006, 'total_time': 0.154781347}, 'model_name': 'gemma2-9b-it', 'system_fingerprint': 'fp_10c08bf97d', 'finish_reason': 'tool_calls', 'logprobs': None}, id='run-3929e020-075c-4acd-b7b4-f50a79e968b0-0', tool_calls=[{'name': 'WordCount', 'args': {'__arg1': 'i love bangladesh so much'}, 'id': 'call_nhm9', 'type': 'tool_call'}], usage_metadata={'input_tokens': 1808, 'output_tokens': 53, 'total_tokens': 1861})]}}\n",
            "----\n",
            "{'tools': {'messages': [ToolMessage(content='5', name='WordCount', id='072f4ff8-90d7-4840-86db-cf8c7b82ce79', tool_call_id='call_nhm9')]}}\n",
            "----\n",
            "{'agent': {'messages': [AIMessage(content='There are 5 words in that sentence.  \\n', additional_kwargs={}, response_metadata={'token_usage': {'completion_tokens': 13, 'prompt_tokens': 1886, 'total_tokens': 1899, 'completion_time': 0.023636364, 'prompt_time': 0.11359385, 'queue_time': 0.02301251800000001, 'total_time': 0.137230214}, 'model_name': 'gemma2-9b-it', 'system_fingerprint': 'fp_10c08bf97d', 'finish_reason': 'stop', 'logprobs': None}, id='run-432d259b-6078-42ba-890e-2a11262056cf-0', usage_metadata={'input_tokens': 1886, 'output_tokens': 13, 'total_tokens': 1899})]}}\n",
            "----\n"
          ]
        }
      ],
      "source": [
        "for chunk in agent.stream(\n",
        "    {\"messages\": [HumanMessage(content=\"Count word from i love bangladesh so much\")]}, config\n",
        "):\n",
        "    print(chunk)\n",
        "    print(\"----\")"
      ]
    },
    {
      "cell_type": "code",
      "execution_count": null,
      "metadata": {
        "id": "3o81GGWughou"
      },
      "outputs": [],
      "source": []
    }
  ],
  "metadata": {
    "colab": {
      "provenance": []
    },
    "kernelspec": {
      "display_name": "base",
      "language": "python",
      "name": "python3"
    },
    "language_info": {
      "codemirror_mode": {
        "name": "ipython",
        "version": 3
      },
      "file_extension": ".py",
      "mimetype": "text/x-python",
      "name": "python",
      "nbconvert_exporter": "python",
      "pygments_lexer": "ipython3",
      "version": "3.12.8"
    }
  },
  "nbformat": 4,
  "nbformat_minor": 0
}
