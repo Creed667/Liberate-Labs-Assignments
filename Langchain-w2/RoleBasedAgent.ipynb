{
  "cells": [
    {
      "cell_type": "code",
      "execution_count": 4,
      "metadata": {
        "id": "E1EjiYIWb83t"
      },
      "outputs": [],
      "source": [
        "#!pip install langchain_groq"
      ]
    },
    {
      "cell_type": "code",
      "execution_count": 5,
      "metadata": {
        "id": "UM8XOF6Xbl2t"
      },
      "outputs": [],
      "source": [
        "from langchain_groq import ChatGroq\n",
        "from langchain_core.messages import HumanMessage, SystemMessage\n",
        "import re"
      ]
    },
    {
      "cell_type": "code",
      "execution_count": 6,
      "metadata": {
        "id": "CTYzjzrZbrig"
      },
      "outputs": [],
      "source": [
        "llm = ChatGroq(model_name=\"gemma2-9b-it\", temperature=0,api_key='api+groq')\n"
      ]
    },
    {
      "cell_type": "code",
      "execution_count": 7,
      "metadata": {
        "id": "4DQRenk_bu7X"
      },
      "outputs": [],
      "source": [
        "class MathAgent:\n",
        "    def process(self, query):\n",
        "        messages = [\n",
        "            SystemMessage(content=\"You are an AI math expression maker. Your job is to turn a sentence into math expressoin.\"),\n",
        "            HumanMessage(content=f\"Turn this {query} into math expression\")\n",
        "        ]\n",
        "        response = llm.invoke(messages)\n",
        "        match = re.search(r'(\\d+\\s*[+\\-*/]\\s*\\d+)', response.content)\n",
        "       # print(match)\n",
        "        if match:\n",
        "            try:\n",
        "                result = eval(match.group(0))\n",
        "                return f\"Math Result: {result}\"\n",
        "            except Exception as e:\n",
        "                return f\"Math Error: {str(e)}\"\n",
        "        return \"MathAgent: Unable to process.\"\n",
        "\n",
        "class TextAgent:\n",
        "\n",
        "    def process(self, query):\n",
        "\n",
        "\n",
        "        if \"summerize\" in  query:\n",
        "            messages = [\n",
        "            SystemMessage(content=\"Only summerize the given sentence\"),\n",
        "            HumanMessage(content=f'{query}')\n",
        "            ]\n",
        "            response = llm.invoke(messages)\n",
        "            return f\"Summary: {response.content}...\"\n",
        "\n",
        "        elif \"uppercase\" in query:\n",
        "             messages = [\n",
        "             SystemMessage(content=\"You are an AI for article expert. Only turn the sentence into uppercase letter\"),\n",
        "             HumanMessage(content=f'{query}')\n",
        "             ]\n",
        "             response = llm.invoke(messages)\n",
        "             return f\"UpperCase: {response.content}...\"\n",
        "\n",
        "        elif \"lowercase\" in query:\n",
        "            messages = [\n",
        "            SystemMessage(content=\"You are an AI for article expert.Only  turn the sentence into lowercase letter\"),\n",
        "            HumanMessage(content=f'{query}')\n",
        "            ]\n",
        "            response = llm.invoke(messages)\n",
        "            return f\"LowerCase: {response.content}...\"\n",
        "\n",
        "        elif \"count\" in query:\n",
        "            messages = [\n",
        "            SystemMessage(content=\"You are an AI for article expert. Only count the words in the sentence\"),\n",
        "            HumanMessage(content=f'{query}')\n",
        "            ]\n",
        "            response = llm.invoke(messages)\n",
        "            return f\"Count of words: {response.content}...\"\n",
        "\n",
        "        return \"TextAgent: Unable to process.\"\n",
        "\n",
        "class DecisionAgent:\n",
        "    def __init__(self):\n",
        "        self.math_agent = MathAgent()\n",
        "        self.text_agent = TextAgent()\n",
        "\n",
        "    def process(self, query):\n",
        "        messages = [\n",
        "            SystemMessage(content=\"You are an AI decision-maker. Your job is to choose the correct agent for the given query. Respond with only 'MathAgent' or 'TextAgent'.\"),\n",
        "            HumanMessage(content=f\"Query: {query}\\nOptions: MathAgent, TextAgent\")\n",
        "        ]\n",
        "        response = llm.invoke(messages)\n",
        "        decision = response.content.strip()\n",
        "        #print(response.content)\n",
        "\n",
        "        if decision == \"MathAgent\":\n",
        "            return self.math_agent.process(query)\n",
        "        elif decision == \"TextAgent\":\n",
        "            return self.text_agent.process(query)\n",
        "        else:\n",
        "            return \"DecisionAgent: I don't understand.\"\n",
        "\n",
        "decision_agent = DecisionAgent()"
      ]
    },
    {
      "cell_type": "code",
      "execution_count": 8,
      "metadata": {
        "colab": {
          "base_uri": "https://localhost:8080/"
        },
        "id": "OurKP8dub0WA",
        "outputId": "4c61a0cb-ee13-4437-bdcf-e670ca05a63f"
      },
      "outputs": [
        {
          "name": "stdout",
          "output_type": "stream",
          "text": [
            "Query: Can you add 10 and 5?\n",
            "Response: Math Result: 15\n",
            "\n",
            "Query: what is 10 * 8?\n",
            "Response: Math Result: 80\n",
            "\n",
            "Query: summerize 'Bangladesh, officially the People's Republic of Bangladesh, is a country in South Asia.\n",
            "    It is the eighth-most populous country in the world and among the most densely populated with a population exceeding 170 million within an area of 148,460 square kilometres (57,320 sq mi).\n",
            "    Bangladesh shares land borders with India to the north, west, and east, and Myanmar to the southeast.\n",
            "    To the south, it has a coastline along the Bay of Bengal.\n",
            "    To the north, it is separated from Bhutan and Nepal by the Siliguri Corridor, and from China by the mountainous Indian state of Sikkim.\n",
            "    Dhaka, the capital and largest city, is the nation's political, financial, and cultural centre.\n",
            "    Chittagong is the second-largest city and the busiest port of the country.\n",
            "    The official language is Bengali. Islam is the official and largest religion and Bengali Muslims form the largest ethnoreligious group in the country.'\n",
            "Response: Summary: Bangladesh, a densely populated South Asian country with over 170 million people, is bordered by India, Myanmar, and shares a coastline with the Bay of Bengal.  Its capital, Dhaka, is a major political, financial, and cultural hub. \n",
            "...\n",
            "\n",
            "Query: uppercase i love bangladesh\n",
            "Response: UpperCase: I LOVE BANGLADESH \n",
            "...\n",
            "\n",
            "Query: lowercase i love bangladesh\n",
            "Response: LowerCase: i love bangladesh \n",
            "...\n",
            "\n",
            "Query: count the words in I love bangladesh\n",
            "Response: Count of words: There are 4 words in the sentence \"I love bangladesh\". \n",
            "...\n",
            "\n"
          ]
        }
      ],
      "source": [
        "queries = [\n",
        "    \"Can you add 10 and 5?\",\n",
        "    \"what is 10 * 8?\",\n",
        "    \"\"\"summerize 'Bangladesh, officially the People's Republic of Bangladesh, is a country in South Asia.\n",
        "    It is the eighth-most populous country in the world and among the most densely populated with a population exceeding 170 million within an area of 148,460 square kilometres (57,320 sq mi).\n",
        "    Bangladesh shares land borders with India to the north, west, and east, and Myanmar to the southeast.\n",
        "    To the south, it has a coastline along the Bay of Bengal.\n",
        "    To the north, it is separated from Bhutan and Nepal by the Siliguri Corridor, and from China by the mountainous Indian state of Sikkim.\n",
        "    Dhaka, the capital and largest city, is the nation's political, financial, and cultural centre.\n",
        "    Chittagong is the second-largest city and the busiest port of the country.\n",
        "    The official language is Bengali. Islam is the official and largest religion and Bengali Muslims form the largest ethnoreligious group in the country.'\"\"\",\n",
        "\n",
        "    \"uppercase i love bangladesh\",\n",
        "    \"lowercase i love bangladesh\",\n",
        "    \"count the words in I love bangladesh\",\n",
        "]\n",
        "\n",
        "for query in queries:\n",
        "    response = decision_agent.process(query)\n",
        "    print(f\"Query: {query}\\nResponse: {response}\\n\")\n"
      ]
    },
    {
      "cell_type": "code",
      "execution_count": null,
      "metadata": {
        "id": "0-pySoKVKhj3"
      },
      "outputs": [],
      "source": []
    }
  ],
  "metadata": {
    "colab": {
      "provenance": []
    },
    "kernelspec": {
      "display_name": "base",
      "language": "python",
      "name": "python3"
    },
    "language_info": {
      "codemirror_mode": {
        "name": "ipython",
        "version": 3
      },
      "file_extension": ".py",
      "mimetype": "text/x-python",
      "name": "python",
      "nbconvert_exporter": "python",
      "pygments_lexer": "ipython3",
      "version": "3.12.8"
    }
  },
  "nbformat": 4,
  "nbformat_minor": 0
}
